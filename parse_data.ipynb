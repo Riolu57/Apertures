{
 "cells": [
  {
   "cell_type": "code",
   "execution_count": 3,
   "metadata": {
    "collapsed": true,
    "pycharm": {
     "name": "#%%\n"
    }
   },
   "outputs": [
    {
     "name": "stdout",
     "output_type": "stream",
     "text": [
      "Created Dataframe\n"
     ]
    }
   ],
   "source": [
    "import numpy as np\n",
    "import pandas as pd\n",
    "import itertools as iter\n",
    "import warnings\n",
    "import pickle\n",
    "\n",
    "warnings.filterwarnings(\"ignore\")\n",
    "def new_dataframe():\n",
    "    colNames = []\n",
    "    for i in range(1, 13):\n",
    "        colNames.append(f\"coeff{i}\")\n",
    "\n",
    "    # colNames.append(\"speaker_count\")\n",
    "    # colNames.append(\"utter_count\")\n",
    "    # colNames.append(\"frame_count\")\n",
    "\n",
    "    index = pd.MultiIndex.from_tuples([], names=[\"speak\", \"utter\", \"frame\"])\n",
    "    df = pd.DataFrame(columns=colNames)\n",
    "    print(\"Created Dataframe\")\n",
    "    return colNames, df\n",
    "\n",
    "colNames, df = new_dataframe()"
   ]
  },
  {
   "cell_type": "code",
   "execution_count": 4,
   "outputs": [
    {
     "name": "stdout",
     "output_type": "stream",
     "text": [
      "[30, 60, 90, 120, 150, 180, 210, 240, 270]\n",
      "Loaded data\n",
      "Loaded dataframe\n",
      "(4274, 12)\n",
      "              coeff1     coeff2    coeff3     coeff4     coeff5     coeff6  \\\n",
      "(0, 0, 0)   1.860936  -0.207383  0.261557  -0.214562  -0.171253  -0.118167   \n",
      "(0, 0, 1)   1.891651  -0.193249  0.235363  -0.249118  -0.112890  -0.112238   \n",
      "(0, 0, 2)   1.939205  -0.239664  0.258561  -0.291458  -0.041053  -0.102034   \n",
      "(0, 0, 3)   1.717517  -0.218572  0.217119  -0.228186  -0.018608  -0.137624   \n",
      "(0, 0, 4)   1.741191  -0.279891  0.196583  -0.236377  -0.032012  -0.090612   \n",
      "...              ...        ...       ...        ...        ...        ...   \n",
      "(8, 29, 4)  1.141889  -0.485815  0.288329  -0.687604   0.301889  -0.203278   \n",
      "(8, 29, 5)  1.162979  -0.340980  0.290894  -0.553881   0.324858  -0.250906   \n",
      "(8, 29, 6)  1.224771  -0.371558  0.335834  -0.547974   0.384870  -0.203234   \n",
      "(8, 29, 7)  1.030606  -0.309280  0.311761  -0.466693   0.453942  -0.260364   \n",
      "(8, 29, 8)  0.966744  -0.323093  0.305467  -0.419457   0.514195  -0.311060   \n",
      "\n",
      "               coeff7     coeff8     coeff9    coeff10    coeff11   coeff12  \n",
      "(0, 0, 0)   -0.277557   0.025668   0.126701  -0.306756  -0.213076  0.088728  \n",
      "(0, 0, 1)   -0.311997  -0.027122   0.171457  -0.289431  -0.247722  0.093011  \n",
      "(0, 0, 2)   -0.383300   0.019013   0.169510  -0.314894  -0.227908  0.074638  \n",
      "(0, 0, 3)   -0.403318  -0.009643   0.164607  -0.323267  -0.210105  0.098098  \n",
      "(0, 0, 4)   -0.363134  -0.012571   0.124298  -0.351171  -0.216545  0.113899  \n",
      "...               ...        ...        ...        ...        ...       ...  \n",
      "(8, 29, 4)   0.057573   0.382032  -0.245315  -0.187900  -0.034779  0.170756  \n",
      "(8, 29, 5)   0.008865   0.249452  -0.350530  -0.169895   0.101546  0.227674  \n",
      "(8, 29, 6)  -0.058058   0.263690  -0.368357  -0.213397   0.117961  0.226729  \n",
      "(8, 29, 7)   0.004476   0.227590  -0.413259  -0.169547   0.168689  0.214409  \n",
      "(8, 29, 8)  -0.033985   0.154038  -0.389686  -0.089183   0.166250  0.173642  \n",
      "\n",
      "[4274 rows x 12 columns]\n"
     ]
    }
   ],
   "source": [
    "bounds = [i for i in iter.accumulate([30, 30, 30, 30, 30, 30, 30, 30, 30])]\n",
    "print(bounds)\n",
    "\n",
    "speak_count = 0\n",
    "utter_count = 0\n",
    "frame_count = -1\n",
    "\n",
    "train_file = open(\"./data/ae.train\", \"r\")\n",
    "print(\"Loaded data\")\n",
    "\n",
    "for line in train_file.readlines():\n",
    "    if line == \"\\n\":\n",
    "        utter_count +=1\n",
    "        frame_count = -1\n",
    "        speak_count = (utter_count//30)\n",
    "\n",
    "    else:\n",
    "        frame_count += 1\n",
    "\n",
    "        row = np.asarray(line[:-2].split(\" \")).reshape(1, 12)\n",
    "        # row.append(speak_count)\n",
    "        # row.append(utter_count)\n",
    "        # row.append(frame_count)\n",
    "\n",
    "        #print(row)\n",
    "\n",
    "        utter_idx = utter_count - bounds[speak_count - 1] if speak_count > 0 else utter_count\n",
    "        # print(utter_idx)\n",
    "        index = pd.MultiIndex.from_tuples([(int(speak_count), int(utter_idx), int(frame_count))], names=[\"speak\", \"utter\", \"frame\"])\n",
    "        row = pd.DataFrame(row, index=index, columns=colNames)\n",
    "\n",
    "        #print(row)\n",
    "        df = pd.concat([df, row])\n",
    "\n",
    "print(\"Loaded dataframe\")\n",
    "train_file.close()\n",
    "\n",
    "print(df.shape)\n",
    "print(df)"
   ],
   "metadata": {
    "collapsed": false,
    "pycharm": {
     "name": "#%%\n"
    }
   }
  },
  {
   "cell_type": "code",
   "execution_count": 5,
   "outputs": [],
   "source": [
    "# df = new_dataframe()"
   ],
   "metadata": {
    "collapsed": false,
    "pycharm": {
     "name": "#%%\n"
    }
   }
  },
  {
   "cell_type": "code",
   "execution_count": 6,
   "outputs": [
    {
     "name": "stdout",
     "output_type": "stream",
     "text": [
      "[31, 66, 154, 198, 227, 251, 291, 341, 370]\n",
      "Loaded test data\n",
      "Loaded dataframe\n",
      "0: 31, 30\n",
      "1: 35, 35\n",
      "2: 88, 88\n",
      "3: 44, 44\n",
      "4: 29, 29\n",
      "5: 24, 24\n",
      "6: 40, 40\n",
      "7: 50, 50\n",
      "8: 29, 29\n"
     ]
    }
   ],
   "source": [
    "ran = [31, 35, 88, 44, 29, 24, 40, 50, 29]\n",
    "bounds = [i for i in iter.accumulate([31, 35, 88, 44, 29, 24, 40, 50, 29])]\n",
    "print(bounds)\n",
    "\n",
    "res = {}\n",
    "\n",
    "speak_count = 0\n",
    "utter_count = 0\n",
    "frame_count = -1\n",
    "\n",
    "test_file = open(\"./data/ae.test\", \"r\")\n",
    "print(\"Loaded test data\")\n",
    "\n",
    "for line in test_file.readlines():\n",
    "    if line == \"\\n\":\n",
    "        utter_count +=1\n",
    "        frame_count = -1\n",
    "\n",
    "        if utter_count in bounds:\n",
    "            speak_count = bounds.index(utter_count) + 1\n",
    "\n",
    "        res[speak_count] = res.get(speak_count, 0) + 1\n",
    "\n",
    "    else:\n",
    "        frame_count += 1\n",
    "\n",
    "        row = np.asarray(line[:-2].split(\" \")).reshape(1, 12)\n",
    "        # row.append(speak_count)\n",
    "        # row.append(utter_count)\n",
    "        # row.append(frame_count)\n",
    "\n",
    "        utter_idx = utter_count - bounds[speak_count - 1] if speak_count > 0 else utter_count\n",
    "        # print(utter_idx)\n",
    "        index = pd.MultiIndex.from_tuples([(int(speak_count), int(utter_idx), int(frame_count))], names=[\"speak\", \"utter\", \"frame\"])\n",
    "        row = pd.DataFrame(row, index=index, columns=colNames)\n",
    "\n",
    "        #print(row)\n",
    "        df = pd.concat([df, row])\n",
    "\n",
    "print(\"Loaded dataframe\")\n",
    "test_file.close()\n",
    "for idx in range(len(ran)):\n",
    "    print(f\"{idx}: {ran[idx]}, {res[idx]}\")"
   ],
   "metadata": {
    "collapsed": false,
    "pycharm": {
     "name": "#%%\n"
    }
   }
  },
  {
   "cell_type": "code",
   "execution_count": 7,
   "outputs": [
    {
     "name": "stdout",
     "output_type": "stream",
     "text": [
      "               coeff1     coeff2     coeff3     coeff4     coeff5     coeff6  \\\n",
      "(0, 0, 0)    1.860936  -0.207383   0.261557  -0.214562  -0.171253  -0.118167   \n",
      "(0, 0, 1)    1.891651  -0.193249   0.235363  -0.249118  -0.112890  -0.112238   \n",
      "(0, 0, 2)    1.939205  -0.239664   0.258561  -0.291458  -0.041053  -0.102034   \n",
      "(0, 0, 3)    1.717517  -0.218572   0.217119  -0.228186  -0.018608  -0.137624   \n",
      "(0, 0, 4)    1.741191  -0.279891   0.196583  -0.236377  -0.032012  -0.090612   \n",
      "...               ...        ...        ...        ...        ...        ...   \n",
      "(8, 28, 6)   1.216506  -0.424432  -0.034349  -0.294238   0.166270  -0.397758   \n",
      "(8, 28, 7)   1.214579  -0.399925  -0.127891  -0.239583   0.221423  -0.374714   \n",
      "(8, 28, 8)   1.170031  -0.306025  -0.145534  -0.195854   0.276371  -0.346794   \n",
      "(8, 28, 9)   1.118108  -0.258605  -0.103982  -0.231256   0.344866  -0.223807   \n",
      "(8, 28, 10)  1.177449  -0.404080   0.052026  -0.284812   0.429840  -0.203484   \n",
      "\n",
      "                coeff7     coeff8     coeff9    coeff10    coeff11   coeff12  \n",
      "(0, 0, 0)    -0.277557   0.025668   0.126701  -0.306756  -0.213076  0.088728  \n",
      "(0, 0, 1)    -0.311997  -0.027122   0.171457  -0.289431  -0.247722  0.093011  \n",
      "(0, 0, 2)    -0.383300   0.019013   0.169510  -0.314894  -0.227908  0.074638  \n",
      "(0, 0, 3)    -0.403318  -0.009643   0.164607  -0.323267  -0.210105  0.098098  \n",
      "(0, 0, 4)    -0.363134  -0.012571   0.124298  -0.351171  -0.216545  0.113899  \n",
      "...                ...        ...        ...        ...        ...       ...  \n",
      "(8, 28, 6)    0.091827   0.023178  -0.191598  -0.111245  -0.011547  0.425088  \n",
      "(8, 28, 7)    0.046216   0.051754  -0.197824  -0.099159  -0.018177  0.359986  \n",
      "(8, 28, 8)    0.042325   0.031668  -0.181205  -0.077962  -0.024079  0.305890  \n",
      "(8, 28, 9)   -0.014415  -0.046215  -0.219385   0.013357  -0.010018  0.192860  \n",
      "(8, 28, 10)  -0.072393  -0.080955  -0.244424  -0.001849  -0.016634  0.224688  \n",
      "\n",
      "[9961 rows x 12 columns]\n",
      "(9961, 12)\n"
     ]
    }
   ],
   "source": [
    "print(df)\n",
    "print(df.shape)"
   ],
   "metadata": {
    "collapsed": false,
    "pycharm": {
     "name": "#%%\n"
    }
   }
  },
  {
   "cell_type": "code",
   "execution_count": 10,
   "outputs": [
    {
     "name": "stdout",
     "output_type": "stream",
     "text": [
      "{0: 1096, 1: 991, 2: 1614, 3: 1473, 4: 782, 5: 963, 6: 1170, 7: 1011, 8: 861}\n"
     ]
    }
   ],
   "source": [
    "# Test that all occurences were counted correctly\n",
    "speakers = dict()\n",
    "for index, row in df.iterrows():\n",
    "    speakers[index[0]] = speakers.get(index[0], 0) + 1\n",
    "\n",
    "type(df)\n",
    "df.dtypes\n",
    "for i in range(1, 13):\n",
    "    df = df.astype({f'coeff{i}': 'float32'})\n",
    "\n",
    "df.dtypes\n",
    "print(res)\n",
    "# df = df.sample(frac=1, random_state=42).reset_index(drop=True)"
   ],
   "metadata": {
    "collapsed": false,
    "pycharm": {
     "name": "#%%\n"
    }
   }
  },
  {
   "cell_type": "code",
   "execution_count": null,
   "outputs": [],
   "source": [
    "def splitData(dataset, split_fact):\n",
    "    df1 = dataset.iloc[:int(split_fact[0]*len(dataset)),:]\n",
    "    df2 = dataset.iloc[int(split_fact[0]*len(dataset)):,:]\n",
    "    df3 = df2.iloc[int((split_fact[1]/(split_fact[1] + split_fact[2]))*len(df2)):,:]\n",
    "    df2 = df2.iloc[:int((split_fact[1]/(split_fact[1] + split_fact[2]))*len(df2)),:]\n",
    "\n",
    "    # t1 = df1.pop('speaker_count')\n",
    "    # t2 = df2.pop('speaker_count')\n",
    "    # t3 = df3.pop('speaker_count')\n",
    "\n",
    "    # df1 = np.expand_dims(df1, 1)\n",
    "    # df2 = np.expand_dims(df2, 1)\n",
    "    # df3 = np.expand_dims(df3, 1)\n",
    "\n",
    "    # return df1, t1, df2, t2, df3, t3\n",
    "    return df1, df2, df3\n",
    "# Convert df to DataSet"
   ],
   "metadata": {
    "collapsed": false,
    "pycharm": {
     "name": "#%%\n"
    }
   }
  },
  {
   "cell_type": "code",
   "execution_count": null,
   "outputs": [],
   "source": [
    "train_x, test_x, val_x = splitData(df, [0.7, 0.2, 0.1])\n",
    "print(len(train_x), len(test_x), len(val_x))\n",
    "print((len(train_x) + len(test_x) + len(val_x)), len(df))\n",
    "print(df)"
   ],
   "metadata": {
    "collapsed": false,
    "pycharm": {
     "name": "#%%\n"
    }
   }
  },
  {
   "cell_type": "code",
   "execution_count": null,
   "outputs": [],
   "source": [
    "with open('Pickles/train_x.txt', 'wb') as tx:\n",
    "    pickle.dump(train_x, tx)\n",
    "\n",
    "# with open('Pickles/train_y.txt', 'wb') as ty:\n",
    "#     pickle.dump(train_y, ty)\n",
    "\n",
    "with open('Pickles/test_x.txt', 'wb') as tx:\n",
    "    pickle.dump(test_x, tx)\n",
    "#\n",
    "# with open('Pickles/test_y.txt', 'wb') as ty:\n",
    "#     pickle.dump(test_y, ty)\n",
    "\n",
    "with open('Pickles/val_x.txt', 'wb') as vx:\n",
    "    pickle.dump(val_x, vx)\n",
    "#\n",
    "# with open('Pickles/val_y.txt', 'wb') as vy:\n",
    "#     pickle.dump(val_y, vy)\n",
    "print(\"Done!\")"
   ],
   "metadata": {
    "collapsed": false,
    "pycharm": {
     "name": "#%%\n"
    }
   }
  }
 ],
 "metadata": {
  "kernelspec": {
   "display_name": "Python 3",
   "language": "python",
   "name": "python3"
  },
  "language_info": {
   "codemirror_mode": {
    "name": "ipython",
    "version": 2
   },
   "file_extension": ".py",
   "mimetype": "text/x-python",
   "name": "python",
   "nbconvert_exporter": "python",
   "pygments_lexer": "ipython2",
   "version": "2.7.6"
  }
 },
 "nbformat": 4,
 "nbformat_minor": 0
}