{
 "cells": [
  {
   "cell_type": "code",
   "execution_count": 1,
   "metadata": {
    "pycharm": {
     "name": "#%%\n"
    }
   },
   "outputs": [],
   "source": [
    "import tensorflow as tf\n",
    "import datetime\n",
    "import pickle\n",
    "from enum import Enum\n",
    "# from tensorflow.python.keras import backend as K"
   ]
  },
  {
   "cell_type": "code",
   "execution_count": 2,
   "metadata": {
    "pycharm": {
     "name": "#%%\n"
    }
   },
   "outputs": [],
   "source": [
    "class unPickType(Enum):\n",
    "    TRAIN_X = 1\n",
    "    TRAIN_Y = 2\n",
    "    TEST_X = 3\n",
    "    TEST_Y = 4\n",
    "    VAL_X = 5\n",
    "    VAL_Y = 6\n",
    "\n",
    "def unPick(type):\n",
    "    f_path = \"Pickles/\"\n",
    "    x = type.value%2 == 1\n",
    "    if type.value in [1, 2]:\n",
    "        f_path += f\"train_{'x' if x else 'y'}\"\n",
    "\n",
    "    elif type.value in [3, 4]:\n",
    "        f_path += f\"test_{'x' if x else 'y'}\"\n",
    "\n",
    "    elif type.value in [5, 6]:\n",
    "        f_path += f\"val_{'x' if x else 'y'}\"\n",
    "\n",
    "    else:\n",
    "        raise ValueError\n",
    "\n",
    "    f_path += \".txt\"\n",
    "\n",
    "    file = open(f_path, \"rb\")\n",
    "    res = pickle.load(file)\n",
    "    file.close()\n",
    "    return res\n",
    "\n",
    "train_x = unPick(unPickType.TRAIN_X)\n",
    "train_y = unPick(unPickType.TRAIN_Y)\n",
    "test_x = unPick(unPickType.TEST_X)\n",
    "test_y = unPick(unPickType.TEST_Y)\n",
    "val_x = unPick(unPickType.VAL_X)\n",
    "val_y = unPick(unPickType.VAL_Y)"
   ]
  },
  {
   "cell_type": "code",
   "execution_count": 3,
   "outputs": [],
   "source": [
    "# tf_config = tf.ConfigProto(allow_soft_placement=False)\n",
    "# tf_config.gpu_options.allow_growth = True\n",
    "# s = tf.Session(config=tf_config)\n",
    "# K.set_session(s)"
   ],
   "metadata": {
    "collapsed": false,
    "pycharm": {
     "name": "#%%\n"
    }
   }
  },
  {
   "cell_type": "code",
   "execution_count": 4,
   "metadata": {
    "pycharm": {
     "name": "#%%\n"
    }
   },
   "outputs": [],
   "source": [
    "norm_init=tf.keras.initializers.RandomNormal(mean=0., stddev=0.1, seed=42)"
   ]
  },
  {
   "cell_type": "code",
   "execution_count": 5,
   "metadata": {
    "pycharm": {
     "name": "#%%\n"
    }
   },
   "outputs": [],
   "source": [
    "log_dir = \"logs/fit/\" + datetime.datetime.now().strftime(\"%Y%m%d-%H%M%S\")\n",
    "tensorboard_callback = tf.keras.callbacks.TensorBoard(log_dir=log_dir, histogram_freq=1)\n",
    "callback = tf.keras.callbacks.EarlyStopping(monitor='sparse_categorical_accuracy', patience=5, mode=\"max\")"
   ]
  },
  {
   "cell_type": "code",
   "execution_count": 6,
   "metadata": {
    "pycharm": {
     "name": "#%%\n"
    }
   },
   "outputs": [],
   "source": [
    "def get_basic_model():\n",
    "    model = tf.keras.Sequential([\n",
    "        tf.keras.layers.Dense(12, input_shape=(train_x.shape[1:]), kernel_initializer=norm_init),\n",
    "        tf.keras.layers.SimpleRNN(256, return_sequences=True, kernel_initializer=norm_init),\n",
    "        tf.keras.layers.SimpleRNN(256, kernel_initializer=norm_init),\n",
    "        tf.keras.layers.Dense(9, kernel_initializer=norm_init)\n",
    "    ])\n",
    "\n",
    "    return model\n",
    "\n",
    "model = get_basic_model()"
   ]
  },
  {
   "cell_type": "code",
   "execution_count": 7,
   "metadata": {
    "pycharm": {
     "name": "#%%\n"
    }
   },
   "outputs": [],
   "source": [
    "model.compile(optimizer='RMSProp',\n",
    "    loss=tf.keras.losses.SparseCategoricalCrossentropy(),\n",
    "    metrics=['sparse_categorical_accuracy'])"
   ]
  },
  {
   "cell_type": "code",
   "execution_count": 8,
   "metadata": {
    "pycharm": {
     "name": "#%%\n"
    }
   },
   "outputs": [],
   "source": [
    "EPOCHS = 100\n",
    "BATCH_SIZE = 5"
   ]
  },
  {
   "cell_type": "code",
   "execution_count": 9,
   "metadata": {
    "pycharm": {
     "name": "#%%\n"
    }
   },
   "outputs": [
    {
     "data": {
      "text/plain": "[PhysicalDevice(name='/physical_device:GPU:0', device_type='GPU')]"
     },
     "execution_count": 9,
     "metadata": {},
     "output_type": "execute_result"
    }
   ],
   "source": [
    "tf.config.list_physical_devices('GPU')"
   ]
  },
  {
   "cell_type": "code",
   "execution_count": 10,
   "metadata": {
    "pycharm": {
     "name": "#%%\n"
    }
   },
   "outputs": [
    {
     "name": "stdout",
     "output_type": "stream",
     "text": [
      "Epoch 1/100\n",
      "1395/1395 [==============================] - 41s 27ms/step - loss: 14.0423 - sparse_categorical_accuracy: 0.1195 - val_loss: 14.3235 - val_sparse_categorical_accuracy: 0.1113\n",
      "Epoch 2/100\n",
      "1395/1395 [==============================] - 35s 25ms/step - loss: 14.1715 - sparse_categorical_accuracy: 0.1208 - val_loss: 14.3235 - val_sparse_categorical_accuracy: 0.1113\n",
      "Epoch 3/100\n",
      "1395/1395 [==============================] - 38s 27ms/step - loss: 14.1715 - sparse_categorical_accuracy: 0.1208 - val_loss: 14.3235 - val_sparse_categorical_accuracy: 0.1113\n",
      "Epoch 4/100\n",
      "1395/1395 [==============================] - 37s 27ms/step - loss: 14.1715 - sparse_categorical_accuracy: 0.1208 - val_loss: 14.3235 - val_sparse_categorical_accuracy: 0.1113\n",
      "Epoch 5/100\n",
      "1395/1395 [==============================] - 37s 26ms/step - loss: 14.1715 - sparse_categorical_accuracy: 0.1208 - val_loss: 14.3235 - val_sparse_categorical_accuracy: 0.1113\n",
      "Epoch 6/100\n",
      "1395/1395 [==============================] - 37s 26ms/step - loss: 14.1715 - sparse_categorical_accuracy: 0.1208 - val_loss: 14.3235 - val_sparse_categorical_accuracy: 0.1113\n",
      "Epoch 7/100\n",
      "1395/1395 [==============================] - 38s 27ms/step - loss: 14.1715 - sparse_categorical_accuracy: 0.1208 - val_loss: 14.3235 - val_sparse_categorical_accuracy: 0.1113\n",
      "Epoch 8/100\n",
      "1395/1395 [==============================] - 36s 26ms/step - loss: 14.1715 - sparse_categorical_accuracy: 0.1208 - val_loss: 14.3235 - val_sparse_categorical_accuracy: 0.1113\n",
      "Epoch 9/100\n",
      "1395/1395 [==============================] - 34s 24ms/step - loss: 14.1715 - sparse_categorical_accuracy: 0.1208 - val_loss: 14.3235 - val_sparse_categorical_accuracy: 0.1113\n",
      "Epoch 10/100\n",
      "1395/1395 [==============================] - 37s 26ms/step - loss: 14.1715 - sparse_categorical_accuracy: 0.1208 - val_loss: 14.3235 - val_sparse_categorical_accuracy: 0.1113\n",
      "Epoch 11/100\n",
      "1395/1395 [==============================] - 36s 26ms/step - loss: 14.1715 - sparse_categorical_accuracy: 0.1208 - val_loss: 14.3235 - val_sparse_categorical_accuracy: 0.1113\n",
      "Epoch 12/100\n",
      "1395/1395 [==============================] - 38s 27ms/step - loss: 14.1715 - sparse_categorical_accuracy: 0.1208 - val_loss: 14.3235 - val_sparse_categorical_accuracy: 0.1113\n",
      "Epoch 13/100\n",
      "1395/1395 [==============================] - 39s 28ms/step - loss: 14.1715 - sparse_categorical_accuracy: 0.1208 - val_loss: 14.3235 - val_sparse_categorical_accuracy: 0.1113\n",
      "Epoch 14/100\n",
      "1395/1395 [==============================] - 44s 31ms/step - loss: 14.1715 - sparse_categorical_accuracy: 0.1208 - val_loss: 14.3235 - val_sparse_categorical_accuracy: 0.1113\n",
      "Epoch 15/100\n",
      "1395/1395 [==============================] - 44s 31ms/step - loss: 14.1715 - sparse_categorical_accuracy: 0.1208 - val_loss: 14.3235 - val_sparse_categorical_accuracy: 0.1113\n",
      "Epoch 16/100\n",
      "1395/1395 [==============================] - 44s 31ms/step - loss: 14.1715 - sparse_categorical_accuracy: 0.1208 - val_loss: 14.3235 - val_sparse_categorical_accuracy: 0.1113\n",
      "Epoch 17/100\n",
      "1395/1395 [==============================] - 44s 32ms/step - loss: 14.1715 - sparse_categorical_accuracy: 0.1208 - val_loss: 14.3235 - val_sparse_categorical_accuracy: 0.1113\n",
      "Epoch 18/100\n",
      "1395/1395 [==============================] - 44s 32ms/step - loss: 14.1715 - sparse_categorical_accuracy: 0.1208 - val_loss: 14.3235 - val_sparse_categorical_accuracy: 0.1113\n",
      "Epoch 19/100\n",
      "1395/1395 [==============================] - 44s 32ms/step - loss: 14.1715 - sparse_categorical_accuracy: 0.1208 - val_loss: 14.3235 - val_sparse_categorical_accuracy: 0.1113\n",
      "Epoch 20/100\n",
      "1395/1395 [==============================] - 44s 32ms/step - loss: 14.1715 - sparse_categorical_accuracy: 0.1208 - val_loss: 14.3235 - val_sparse_categorical_accuracy: 0.1113\n",
      "Epoch 21/100\n",
      "1395/1395 [==============================] - 44s 32ms/step - loss: 14.1715 - sparse_categorical_accuracy: 0.1208 - val_loss: 14.3235 - val_sparse_categorical_accuracy: 0.1113\n",
      "Epoch 22/100\n",
      "1395/1395 [==============================] - 39s 28ms/step - loss: 14.1715 - sparse_categorical_accuracy: 0.1208 - val_loss: 14.3235 - val_sparse_categorical_accuracy: 0.1113\n",
      "Epoch 23/100\n",
      "1395/1395 [==============================] - 37s 26ms/step - loss: 14.1715 - sparse_categorical_accuracy: 0.1208 - val_loss: 14.3235 - val_sparse_categorical_accuracy: 0.1113\n",
      "Epoch 24/100\n",
      "1395/1395 [==============================] - 38s 27ms/step - loss: 14.1715 - sparse_categorical_accuracy: 0.1208 - val_loss: 14.3235 - val_sparse_categorical_accuracy: 0.1113\n",
      "Epoch 25/100\n",
      "1395/1395 [==============================] - 39s 28ms/step - loss: 14.1715 - sparse_categorical_accuracy: 0.1208 - val_loss: 14.3235 - val_sparse_categorical_accuracy: 0.1113\n",
      "Epoch 26/100\n",
      "1395/1395 [==============================] - 39s 28ms/step - loss: 14.1715 - sparse_categorical_accuracy: 0.1208 - val_loss: 14.3235 - val_sparse_categorical_accuracy: 0.1113\n",
      "Epoch 27/100\n",
      "1395/1395 [==============================] - 39s 28ms/step - loss: 14.1715 - sparse_categorical_accuracy: 0.1208 - val_loss: 14.3235 - val_sparse_categorical_accuracy: 0.1113\n",
      "Epoch 28/100\n",
      "1395/1395 [==============================] - 40s 29ms/step - loss: 14.1715 - sparse_categorical_accuracy: 0.1208 - val_loss: 14.3235 - val_sparse_categorical_accuracy: 0.1113\n",
      "Epoch 29/100\n",
      "1395/1395 [==============================] - 40s 29ms/step - loss: 14.1715 - sparse_categorical_accuracy: 0.1208 - val_loss: 14.3235 - val_sparse_categorical_accuracy: 0.1113\n",
      "Epoch 30/100\n",
      "1395/1395 [==============================] - 39s 28ms/step - loss: 14.1715 - sparse_categorical_accuracy: 0.1208 - val_loss: 14.3235 - val_sparse_categorical_accuracy: 0.1113\n",
      "Epoch 31/100\n",
      "1395/1395 [==============================] - 39s 28ms/step - loss: 14.1715 - sparse_categorical_accuracy: 0.1208 - val_loss: 14.3235 - val_sparse_categorical_accuracy: 0.1113\n",
      "Epoch 32/100\n",
      "1395/1395 [==============================] - 39s 28ms/step - loss: 14.1715 - sparse_categorical_accuracy: 0.1208 - val_loss: 14.3235 - val_sparse_categorical_accuracy: 0.1113\n",
      "Epoch 33/100\n",
      "1395/1395 [==============================] - 41s 30ms/step - loss: 14.1715 - sparse_categorical_accuracy: 0.1208 - val_loss: 14.3235 - val_sparse_categorical_accuracy: 0.1113\n",
      "Epoch 34/100\n",
      "1395/1395 [==============================] - 43s 31ms/step - loss: 14.1715 - sparse_categorical_accuracy: 0.1208 - val_loss: 14.3235 - val_sparse_categorical_accuracy: 0.1113\n",
      "Epoch 35/100\n",
      "1395/1395 [==============================] - 36s 26ms/step - loss: 14.1715 - sparse_categorical_accuracy: 0.1208 - val_loss: 14.3235 - val_sparse_categorical_accuracy: 0.1113\n",
      "Epoch 36/100\n",
      "1395/1395 [==============================] - 36s 26ms/step - loss: 14.1715 - sparse_categorical_accuracy: 0.1208 - val_loss: 14.3235 - val_sparse_categorical_accuracy: 0.1113\n",
      "Epoch 37/100\n",
      "1395/1395 [==============================] - 39s 28ms/step - loss: 14.1715 - sparse_categorical_accuracy: 0.1208 - val_loss: 14.3235 - val_sparse_categorical_accuracy: 0.1113\n",
      "Epoch 38/100\n",
      "1395/1395 [==============================] - 45s 32ms/step - loss: 14.1715 - sparse_categorical_accuracy: 0.1208 - val_loss: 14.3235 - val_sparse_categorical_accuracy: 0.1113\n",
      "Epoch 39/100\n",
      "1395/1395 [==============================] - 45s 32ms/step - loss: 14.1715 - sparse_categorical_accuracy: 0.1208 - val_loss: 14.3235 - val_sparse_categorical_accuracy: 0.1113\n",
      "Epoch 40/100\n",
      "1395/1395 [==============================] - 39s 28ms/step - loss: 14.1715 - sparse_categorical_accuracy: 0.1208 - val_loss: 14.3235 - val_sparse_categorical_accuracy: 0.1113\n",
      "Epoch 41/100\n",
      "1395/1395 [==============================] - 40s 29ms/step - loss: 14.1715 - sparse_categorical_accuracy: 0.1208 - val_loss: 14.3235 - val_sparse_categorical_accuracy: 0.1113\n",
      "Epoch 42/100\n",
      "1395/1395 [==============================] - 38s 27ms/step - loss: 14.1715 - sparse_categorical_accuracy: 0.1208 - val_loss: 14.3235 - val_sparse_categorical_accuracy: 0.1113\n",
      "Epoch 43/100\n",
      "1395/1395 [==============================] - 41s 29ms/step - loss: 14.1715 - sparse_categorical_accuracy: 0.1208 - val_loss: 14.3235 - val_sparse_categorical_accuracy: 0.1113\n",
      "Epoch 44/100\n",
      "1395/1395 [==============================] - 38s 27ms/step - loss: 14.1715 - sparse_categorical_accuracy: 0.1208 - val_loss: 14.3235 - val_sparse_categorical_accuracy: 0.1113\n",
      "Epoch 45/100\n",
      "1395/1395 [==============================] - 40s 29ms/step - loss: 14.1715 - sparse_categorical_accuracy: 0.1208 - val_loss: 14.3235 - val_sparse_categorical_accuracy: 0.1113\n",
      "Epoch 46/100\n",
      "1395/1395 [==============================] - 41s 29ms/step - loss: 14.1715 - sparse_categorical_accuracy: 0.1208 - val_loss: 14.3235 - val_sparse_categorical_accuracy: 0.1113\n",
      "Epoch 47/100\n",
      "1395/1395 [==============================] - 40s 28ms/step - loss: 14.1715 - sparse_categorical_accuracy: 0.1208 - val_loss: 14.3235 - val_sparse_categorical_accuracy: 0.1113\n",
      "Epoch 48/100\n",
      "1395/1395 [==============================] - 38s 27ms/step - loss: 14.1715 - sparse_categorical_accuracy: 0.1208 - val_loss: 14.3235 - val_sparse_categorical_accuracy: 0.1113\n",
      "Epoch 49/100\n",
      "1395/1395 [==============================] - 43s 31ms/step - loss: 14.1715 - sparse_categorical_accuracy: 0.1208 - val_loss: 14.3235 - val_sparse_categorical_accuracy: 0.1113\n",
      "Epoch 50/100\n",
      "1395/1395 [==============================] - 44s 32ms/step - loss: 14.1715 - sparse_categorical_accuracy: 0.1208 - val_loss: 14.3235 - val_sparse_categorical_accuracy: 0.1113\n",
      "Epoch 51/100\n",
      "1395/1395 [==============================] - 44s 31ms/step - loss: 14.1715 - sparse_categorical_accuracy: 0.1208 - val_loss: 14.3235 - val_sparse_categorical_accuracy: 0.1113\n",
      "Epoch 52/100\n",
      "1395/1395 [==============================] - 43s 31ms/step - loss: 14.1715 - sparse_categorical_accuracy: 0.1208 - val_loss: 14.3235 - val_sparse_categorical_accuracy: 0.1113\n",
      "Epoch 53/100\n",
      "1395/1395 [==============================] - 44s 31ms/step - loss: 14.1715 - sparse_categorical_accuracy: 0.1208 - val_loss: 14.3235 - val_sparse_categorical_accuracy: 0.1113\n",
      "Epoch 54/100\n",
      "1395/1395 [==============================] - 44s 31ms/step - loss: 14.1715 - sparse_categorical_accuracy: 0.1208 - val_loss: 14.3235 - val_sparse_categorical_accuracy: 0.1113\n",
      "Epoch 55/100\n",
      "1395/1395 [==============================] - 43s 31ms/step - loss: 14.1715 - sparse_categorical_accuracy: 0.1208 - val_loss: 14.3235 - val_sparse_categorical_accuracy: 0.1113\n",
      "Epoch 56/100\n",
      "1395/1395 [==============================] - 44s 31ms/step - loss: 14.1715 - sparse_categorical_accuracy: 0.1208 - val_loss: 14.3235 - val_sparse_categorical_accuracy: 0.1113\n",
      "Epoch 57/100\n",
      "1395/1395 [==============================] - 44s 31ms/step - loss: 14.1715 - sparse_categorical_accuracy: 0.1208 - val_loss: 14.3235 - val_sparse_categorical_accuracy: 0.1113\n",
      "Epoch 58/100\n",
      "1395/1395 [==============================] - 44s 31ms/step - loss: 14.1715 - sparse_categorical_accuracy: 0.1208 - val_loss: 14.3235 - val_sparse_categorical_accuracy: 0.1113\n",
      "Epoch 59/100\n",
      "1395/1395 [==============================] - 44s 31ms/step - loss: 14.1715 - sparse_categorical_accuracy: 0.1208 - val_loss: 14.3235 - val_sparse_categorical_accuracy: 0.1113\n",
      "Epoch 60/100\n",
      "1395/1395 [==============================] - 44s 31ms/step - loss: 14.1715 - sparse_categorical_accuracy: 0.1208 - val_loss: 14.3235 - val_sparse_categorical_accuracy: 0.1113\n",
      "Epoch 61/100\n",
      "1395/1395 [==============================] - 44s 31ms/step - loss: 14.1715 - sparse_categorical_accuracy: 0.1208 - val_loss: 14.3235 - val_sparse_categorical_accuracy: 0.1113\n",
      "Epoch 62/100\n",
      "1395/1395 [==============================] - 44s 31ms/step - loss: 14.1715 - sparse_categorical_accuracy: 0.1208 - val_loss: 14.3235 - val_sparse_categorical_accuracy: 0.1113\n",
      "Epoch 63/100\n",
      "1395/1395 [==============================] - 44s 31ms/step - loss: 14.1715 - sparse_categorical_accuracy: 0.1208 - val_loss: 14.3235 - val_sparse_categorical_accuracy: 0.1113\n",
      "Epoch 64/100\n",
      "1395/1395 [==============================] - 44s 31ms/step - loss: 14.1715 - sparse_categorical_accuracy: 0.1208 - val_loss: 14.3235 - val_sparse_categorical_accuracy: 0.1113\n",
      "Epoch 65/100\n",
      "1395/1395 [==============================] - 44s 31ms/step - loss: 14.1715 - sparse_categorical_accuracy: 0.1208 - val_loss: 14.3235 - val_sparse_categorical_accuracy: 0.1113\n",
      "Epoch 66/100\n",
      "1395/1395 [==============================] - 44s 31ms/step - loss: 14.1715 - sparse_categorical_accuracy: 0.1208 - val_loss: 14.3235 - val_sparse_categorical_accuracy: 0.1113\n",
      "Epoch 67/100\n",
      "1395/1395 [==============================] - 44s 31ms/step - loss: 14.1715 - sparse_categorical_accuracy: 0.1208 - val_loss: 14.3235 - val_sparse_categorical_accuracy: 0.1113\n",
      "Epoch 68/100\n",
      "1395/1395 [==============================] - 41s 30ms/step - loss: 14.1715 - sparse_categorical_accuracy: 0.1208 - val_loss: 14.3235 - val_sparse_categorical_accuracy: 0.1113\n",
      "Epoch 69/100\n",
      "1395/1395 [==============================] - 38s 27ms/step - loss: 14.1715 - sparse_categorical_accuracy: 0.1208 - val_loss: 14.3235 - val_sparse_categorical_accuracy: 0.1113\n",
      "Epoch 70/100\n",
      "1395/1395 [==============================] - 44s 31ms/step - loss: 14.1715 - sparse_categorical_accuracy: 0.1208 - val_loss: 14.3235 - val_sparse_categorical_accuracy: 0.1113\n",
      "Epoch 71/100\n",
      "1395/1395 [==============================] - 41s 29ms/step - loss: 14.1715 - sparse_categorical_accuracy: 0.1208 - val_loss: 14.3235 - val_sparse_categorical_accuracy: 0.1113\n",
      "Epoch 72/100\n",
      "1395/1395 [==============================] - 38s 27ms/step - loss: 14.1715 - sparse_categorical_accuracy: 0.1208 - val_loss: 14.3235 - val_sparse_categorical_accuracy: 0.1113\n",
      "Epoch 73/100\n",
      "1395/1395 [==============================] - 41s 29ms/step - loss: 14.1715 - sparse_categorical_accuracy: 0.1208 - val_loss: 14.3235 - val_sparse_categorical_accuracy: 0.1113\n",
      "Epoch 74/100\n",
      "1395/1395 [==============================] - 36s 26ms/step - loss: 14.1715 - sparse_categorical_accuracy: 0.1208 - val_loss: 14.3235 - val_sparse_categorical_accuracy: 0.1113\n",
      "Epoch 75/100\n",
      "1395/1395 [==============================] - 38s 27ms/step - loss: 14.1715 - sparse_categorical_accuracy: 0.1208 - val_loss: 14.3235 - val_sparse_categorical_accuracy: 0.1113\n",
      "Epoch 76/100\n",
      "1395/1395 [==============================] - 38s 27ms/step - loss: 14.1715 - sparse_categorical_accuracy: 0.1208 - val_loss: 14.3235 - val_sparse_categorical_accuracy: 0.1113\n",
      "Epoch 77/100\n",
      "1395/1395 [==============================] - 38s 27ms/step - loss: 14.1715 - sparse_categorical_accuracy: 0.1208 - val_loss: 14.3235 - val_sparse_categorical_accuracy: 0.1113\n",
      "Epoch 78/100\n",
      "1395/1395 [==============================] - 40s 29ms/step - loss: 14.1715 - sparse_categorical_accuracy: 0.1208 - val_loss: 14.3235 - val_sparse_categorical_accuracy: 0.1113\n",
      "Epoch 79/100\n",
      "1395/1395 [==============================] - 40s 29ms/step - loss: 14.1715 - sparse_categorical_accuracy: 0.1208 - val_loss: 14.3235 - val_sparse_categorical_accuracy: 0.1113\n",
      "Epoch 80/100\n",
      "1395/1395 [==============================] - 41s 29ms/step - loss: 14.1715 - sparse_categorical_accuracy: 0.1208 - val_loss: 14.3235 - val_sparse_categorical_accuracy: 0.1113\n",
      "Epoch 81/100\n",
      "1395/1395 [==============================] - 39s 28ms/step - loss: 14.1715 - sparse_categorical_accuracy: 0.1208 - val_loss: 14.3235 - val_sparse_categorical_accuracy: 0.1113\n",
      "Epoch 82/100\n",
      "1395/1395 [==============================] - 39s 28ms/step - loss: 14.1715 - sparse_categorical_accuracy: 0.1208 - val_loss: 14.3235 - val_sparse_categorical_accuracy: 0.1113\n",
      "Epoch 83/100\n",
      "1395/1395 [==============================] - 38s 27ms/step - loss: 14.1715 - sparse_categorical_accuracy: 0.1208 - val_loss: 14.3235 - val_sparse_categorical_accuracy: 0.1113\n",
      "Epoch 84/100\n",
      "1395/1395 [==============================] - 38s 27ms/step - loss: 14.1715 - sparse_categorical_accuracy: 0.1208 - val_loss: 14.3235 - val_sparse_categorical_accuracy: 0.1113\n",
      "Epoch 85/100\n",
      "1395/1395 [==============================] - 40s 29ms/step - loss: 14.1715 - sparse_categorical_accuracy: 0.1208 - val_loss: 14.3235 - val_sparse_categorical_accuracy: 0.1113\n",
      "Epoch 86/100\n",
      "1395/1395 [==============================] - 40s 28ms/step - loss: 14.1715 - sparse_categorical_accuracy: 0.1208 - val_loss: 14.3235 - val_sparse_categorical_accuracy: 0.1113\n",
      "Epoch 87/100\n",
      "1395/1395 [==============================] - 40s 29ms/step - loss: 14.1715 - sparse_categorical_accuracy: 0.1208 - val_loss: 14.3235 - val_sparse_categorical_accuracy: 0.1113\n",
      "Epoch 88/100\n",
      "1395/1395 [==============================] - 37s 27ms/step - loss: 14.1715 - sparse_categorical_accuracy: 0.1208 - val_loss: 14.3235 - val_sparse_categorical_accuracy: 0.1113\n",
      "Epoch 89/100\n",
      "1395/1395 [==============================] - 40s 29ms/step - loss: 14.1715 - sparse_categorical_accuracy: 0.1208 - val_loss: 14.3235 - val_sparse_categorical_accuracy: 0.1113\n",
      "Epoch 90/100\n",
      "1395/1395 [==============================] - 38s 27ms/step - loss: 14.1715 - sparse_categorical_accuracy: 0.1208 - val_loss: 14.3235 - val_sparse_categorical_accuracy: 0.1113\n",
      "Epoch 91/100\n",
      "1395/1395 [==============================] - 39s 28ms/step - loss: 14.1715 - sparse_categorical_accuracy: 0.1208 - val_loss: 14.3235 - val_sparse_categorical_accuracy: 0.1113\n",
      "Epoch 92/100\n",
      "1395/1395 [==============================] - 38s 28ms/step - loss: 14.1715 - sparse_categorical_accuracy: 0.1208 - val_loss: 14.3235 - val_sparse_categorical_accuracy: 0.1113\n",
      "Epoch 93/100\n",
      "1395/1395 [==============================] - 37s 26ms/step - loss: 14.1715 - sparse_categorical_accuracy: 0.1208 - val_loss: 14.3235 - val_sparse_categorical_accuracy: 0.1113\n",
      "Epoch 94/100\n",
      "1395/1395 [==============================] - 39s 28ms/step - loss: 14.1715 - sparse_categorical_accuracy: 0.1208 - val_loss: 14.3235 - val_sparse_categorical_accuracy: 0.1113\n",
      "Epoch 95/100\n",
      "1395/1395 [==============================] - 38s 27ms/step - loss: 14.1715 - sparse_categorical_accuracy: 0.1208 - val_loss: 14.3235 - val_sparse_categorical_accuracy: 0.1113\n",
      "Epoch 96/100\n",
      "1395/1395 [==============================] - 39s 28ms/step - loss: 14.1715 - sparse_categorical_accuracy: 0.1208 - val_loss: 14.3235 - val_sparse_categorical_accuracy: 0.1113\n",
      "Epoch 97/100\n",
      "1395/1395 [==============================] - 48s 34ms/step - loss: 14.1715 - sparse_categorical_accuracy: 0.1208 - val_loss: 14.3235 - val_sparse_categorical_accuracy: 0.1113\n",
      "Epoch 98/100\n",
      "1395/1395 [==============================] - 49s 35ms/step - loss: 14.1715 - sparse_categorical_accuracy: 0.1208 - val_loss: 14.3235 - val_sparse_categorical_accuracy: 0.1113\n",
      "Epoch 99/100\n",
      "1395/1395 [==============================] - 45s 32ms/step - loss: 14.1715 - sparse_categorical_accuracy: 0.1208 - val_loss: 14.3235 - val_sparse_categorical_accuracy: 0.1113\n",
      "Epoch 100/100\n",
      "1395/1395 [==============================] - 39s 28ms/step - loss: 14.1715 - sparse_categorical_accuracy: 0.1208 - val_loss: 14.3235 - val_sparse_categorical_accuracy: 0.1113\n"
     ]
    }
   ],
   "source": [
    "with tf.device('/GPU:0'):\n",
    "    history = model.fit(\n",
    "        train_x, train_y,\n",
    "        batch_size=BATCH_SIZE,\n",
    "        epochs=EPOCHS,\n",
    "        validation_data=(val_x, val_y),\n",
    "        verbose=1,\n",
    "        callbacks=[tensorboard_callback],\n",
    "        use_multiprocessing=True,\n",
    "        workers=8\n",
    "    )"
   ]
  },
  {
   "cell_type": "code",
   "execution_count": 11,
   "metadata": {
    "pycharm": {
     "name": "#%%\n"
    }
   },
   "outputs": [
    {
     "data": {
      "text/plain": "Launching TensorBoard..."
     },
     "metadata": {},
     "output_type": "display_data"
    },
    {
     "data": {
      "text/plain": "<IPython.core.display.HTML object>",
      "text/html": "\n      <iframe id=\"tensorboard-frame-88f4c8b1f59e29d\" width=\"100%\" height=\"800\" frameborder=\"0\">\n      </iframe>\n      <script>\n        (function() {\n          const frame = document.getElementById(\"tensorboard-frame-88f4c8b1f59e29d\");\n          const url = new URL(\"/\", window.location);\n          const port = 6006;\n          if (port) {\n            url.port = port;\n          }\n          frame.src = url;\n        })();\n      </script>\n    "
     },
     "metadata": {},
     "output_type": "display_data"
    }
   ],
   "source": [
    "%load_ext tensorboard\n",
    "%tensorboard --logdir logs/fit"
   ]
  }
 ],
 "metadata": {
  "kernelspec": {
   "display_name": "Python 3 (ipykernel)",
   "language": "python",
   "name": "python3"
  },
  "language_info": {
   "codemirror_mode": {
    "name": "ipython",
    "version": 3
   },
   "file_extension": ".py",
   "mimetype": "text/x-python",
   "name": "python",
   "nbconvert_exporter": "python",
   "pygments_lexer": "ipython3",
   "version": "3.8.10"
  }
 },
 "nbformat": 4,
 "nbformat_minor": 1
}